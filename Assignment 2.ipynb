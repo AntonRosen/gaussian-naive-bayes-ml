{
 "cells": [
  {
   "cell_type": "code",
   "execution_count": 1,
   "id": "bf241ec2",
   "metadata": {},
   "outputs": [],
   "source": [
    "import numpy as np\n",
    "import pandas as pd\n",
    "import seaborn as sn\n",
    "import matplotlib.pyplot as plt\n",
    "\n",
    "from sklearn.base import BaseEstimator, ClassifierMixin\n",
    "\n",
    "from sklearn.preprocessing import StandardScaler\n",
    "from sklearn.preprocessing import LabelEncoder\n",
    "\n",
    "from sklearn.impute import SimpleImputer\n",
    "from sklearn.experimental import enable_iterative_imputer\n",
    "from sklearn.impute import IterativeImputer\n",
    "\n",
    "from sklearn.model_selection import train_test_split\n",
    "from sklearn.model_selection import cross_val_score\n",
    "\n",
    "from sklearn.naive_bayes import GaussianNB\n",
    "\n",
    "from sklearn.metrics import confusion_matrix, accuracy_score\n",
    "from sklearn.metrics import precision_recall_curve, PrecisionRecallDisplay\n",
    "\n",
    "from sklearn.pipeline import Pipeline"
   ]
  },
  {
   "cell_type": "code",
   "execution_count": 2,
   "id": "04507a15",
   "metadata": {},
   "outputs": [],
   "source": [
    "class MyGaussianNB(BaseEstimator, ClassifierMixin):  \n",
    "    def fit(self, X, y):                                                   \n",
    "        N, n = X.shape    \n",
    "        self.classes, class_counts = np.unique(y, return_counts=True)   \n",
    "        lenght = len(class_counts)    \n",
    "        \n",
    "        self.means = np.zeros((lenght, n), dtype=np.float64)    \n",
    "        self.st_dvs = np.zeros((lenght, n), dtype=np.float64)   \n",
    "        self.priors = np.zeros(lenght, dtype=np.float64) \n",
    "        \n",
    "        for idx, c in enumerate(self.classes): \n",
    "                X_c = X[y == c]\n",
    "                self.means[idx, :] = np.nanmean(X_c, axis=0)\n",
    "                self.st_dvs[idx, :] = np.nanstd(X_c,axis=0)\n",
    "                self.priors[idx] = X_c.shape[0] / float(N)\n",
    "\n",
    "    def predict(self, X):\n",
    "            y_pred = [self.predicts(x) for x in X]\n",
    "            return np.array(y_pred)\n",
    "\n",
    "    def predicts(self, x):\n",
    "        posteriors = []     \n",
    "        if x is not np.isnan(x).any(axis=0):\n",
    "            x = np.nan_to_num(x, nan = 0)\n",
    "            for idx, c in enumerate(self.classes):\n",
    "                prior = self.priors[idx]\n",
    "                probs_class = np.prod(self.gaussian_function(idx, x)) \n",
    "                probs = probs_class * prior \n",
    "                posteriors.append(probs)\n",
    "\n",
    "            return self.classes[np.argmax(posteriors)]\n",
    "\n",
    "    def gaussian_function(self, class_idx, x):\n",
    "        mean = self.means[class_idx]\n",
    "        std_dv = self.st_dvs[class_idx]\n",
    "        gaus = np.exp(-((x-mean)**2)/(2*std_dv**2))/((2*std_dv**2 * np.pi) ** .5)\n",
    "        return gaus \n"
   ]
  },
  {
   "cell_type": "code",
   "execution_count": 3,
   "id": "057d5d4c",
   "metadata": {},
   "outputs": [],
   "source": [
    "my_gnb = MyGaussianNB()\n",
    "gnb = GaussianNB()"
   ]
  },
  {
   "cell_type": "code",
   "execution_count": 4,
   "id": "18b54634",
   "metadata": {},
   "outputs": [
    {
     "data": {
      "text/plain": [
       "bill_length       65\n",
       "bill_depth        69\n",
       "flipper_length    71\n",
       "body_mass         63\n",
       "species            0\n",
       "dtype: int64"
      ]
     },
     "execution_count": 4,
     "metadata": {},
     "output_type": "execute_result"
    }
   ],
   "source": [
    "penguins_0_2 = pd.read_csv('PenguinsMV0.2.csv', index_col = 0)\n",
    "penguins_0_2 = penguins_0_2.replace('?',np.NaN)\n",
    "penguins_0_2.isna().sum()"
   ]
  },
  {
   "cell_type": "code",
   "execution_count": 5,
   "id": "01495007",
   "metadata": {},
   "outputs": [
    {
     "data": {
      "text/plain": [
       "bill_length       145\n",
       "bill_depth        134\n",
       "flipper_length    121\n",
       "body_mass         132\n",
       "species             0\n",
       "dtype: int64"
      ]
     },
     "execution_count": 5,
     "metadata": {},
     "output_type": "execute_result"
    }
   ],
   "source": [
    "penguins_0_4 = pd.read_csv('PenguinsMV0.4.csv', index_col = 0)\n",
    "penguins_0_4 = penguins_0_4.replace('?',np.NaN)\n",
    "penguins_0_4.isna().sum()"
   ]
  },
  {
   "cell_type": "code",
   "execution_count": 6,
   "id": "85a1a79a",
   "metadata": {},
   "outputs": [],
   "source": [
    "imp_Pipe = Pipeline(steps=[\n",
    "    ('imputer', SimpleImputer(missing_values=np.nan, strategy = 'mean')),\n",
    "    ('scaler', StandardScaler()),\n",
    "    ('classifier', GaussianNB())])\n",
    "\n",
    "ite_Pipe = Pipeline(steps =[\n",
    "    ('imputer', IterativeImputer(missing_values = np.nan)),\n",
    "    ('scaler', StandardScaler()),\n",
    "    ('classifier', GaussianNB())])"
   ]
  },
  {
   "cell_type": "markdown",
   "id": "ed3418c0",
   "metadata": {},
   "source": [
    "# Penguins 20% missing values"
   ]
  },
  {
   "cell_type": "code",
   "execution_count": 7,
   "id": "23f6a40c",
   "metadata": {},
   "outputs": [
    {
     "name": "stdout",
     "output_type": "stream",
     "text": [
      "(array(['Adelie', 'Chinstrap', 'Gentoo'], dtype=object), array([146,  68, 119], dtype=int64))\n",
      "[0 1 2]\n"
     ]
    }
   ],
   "source": [
    "y = penguins_0_2.pop('species').values\n",
    "print(np.unique(y, return_counts=True))\n",
    "le = LabelEncoder()\n",
    "y = le.fit_transform(y)\n",
    "X_raw = penguins_0_2.values\n",
    "print(np.unique(y))"
   ]
  },
  {
   "cell_type": "code",
   "execution_count": 8,
   "id": "5c912e75",
   "metadata": {},
   "outputs": [
    {
     "data": {
      "text/plain": [
       "((199, 4), (134, 4))"
      ]
     },
     "execution_count": 8,
     "metadata": {},
     "output_type": "execute_result"
    }
   ],
   "source": [
    "X_tr_raw, X_ts_raw, y_train, y_test = train_test_split(X_raw, y, random_state=2, test_size=0.4)\n",
    "scaler = StandardScaler()\n",
    "X_train = scaler.fit_transform(X_tr_raw)\n",
    "X_test = scaler.transform(X_ts_raw) \n",
    "X_train.shape, X_test.shape"
   ]
  },
  {
   "cell_type": "code",
   "execution_count": 9,
   "id": "533909e4",
   "metadata": {},
   "outputs": [],
   "source": [
    "fit_penguins = my_gnb.fit(X_train,y_train)\n",
    "y_pred = my_gnb.predict(X_test)\n",
    "cfm_My = confusion_matrix(y_test,y_pred)"
   ]
  },
  {
   "cell_type": "code",
   "execution_count": 10,
   "id": "8f272f31",
   "metadata": {},
   "outputs": [],
   "source": [
    "imp_Pipe.fit(X_train, y_train)\n",
    "y_pred_SI = imp_Pipe.predict(X_test)\n",
    "cfm_SI = confusion_matrix(y_test,y_pred_SI)"
   ]
  },
  {
   "cell_type": "code",
   "execution_count": 11,
   "id": "53ca5299",
   "metadata": {},
   "outputs": [
    {
     "name": "stderr",
     "output_type": "stream",
     "text": [
      "C:\\Users\\anton\\anaconda3\\lib\\site-packages\\sklearn\\impute\\_iterative.py:699: ConvergenceWarning: [IterativeImputer] Early stopping criterion not reached.\n",
      "  warnings.warn(\n"
     ]
    }
   ],
   "source": [
    "ite_Pipe.fit(X_train, y_train)\n",
    "y_pred_ite = ite_Pipe.predict(X_test)\n",
    "cfm_ite = confusion_matrix(y_test,y_pred_ite)"
   ]
  },
  {
   "cell_type": "code",
   "execution_count": 12,
   "id": "a4b02cc0",
   "metadata": {},
   "outputs": [
    {
     "data": {
      "image/png": "[encoded data removed]",
      "text/plain": [
       "<Figure size 1224x504 with 6 Axes>"
      ]
     },
     "metadata": {
      "needs_background": "light"
     },
     "output_type": "display_data"
    }
   ],
   "source": [
    "x_axis_labels = ['Predicted label 0','Predicted label 1','Predicted label 2']\n",
    "y_axis_labels = ['Actual label 0','Actual label 1','Actual label 2'] \n",
    "fig = plt.figure(figsize=(17,7))\n",
    "plt.subplot(1,3,1)\n",
    "sn.heatmap(cfm_My, xticklabels=x_axis_labels, yticklabels=y_axis_labels, annot=True)\n",
    "plt.subplot(1,3,2)\n",
    "sn.heatmap(cfm_SI, xticklabels=x_axis_labels, yticklabels=y_axis_labels, annot=True)\n",
    "plt.subplot(1,3,3)\n",
    "sn.heatmap(cfm_ite, xticklabels=x_axis_labels, yticklabels=y_axis_labels, annot=True)\n",
    "plt.show()"
   ]
  },
  {
   "cell_type": "code",
   "execution_count": 13,
   "id": "6d5fd3c8",
   "metadata": {},
   "outputs": [
    {
     "name": "stdout",
     "output_type": "stream",
     "text": [
      "5x CV Accuracy MyGaussianNB: 0.92 (+/- 0.04)\n"
     ]
    }
   ],
   "source": [
    "X = scaler.fit_transform(X_raw)\n",
    "acc_arr = cross_val_score(my_gnb, X, y, cv=5)\n",
    "print('5x CV Accuracy MyGaussianNB: %0.2f (+/- %0.2f)' % (acc_arr.mean(), acc_arr.std() * 2))"
   ]
  },
  {
   "cell_type": "code",
   "execution_count": 14,
   "id": "3ad7ae65",
   "metadata": {},
   "outputs": [
    {
     "name": "stdout",
     "output_type": "stream",
     "text": [
      "5x CV Accuracy Simple Imputer: 0.93 (+/- 0.02)\n"
     ]
    }
   ],
   "source": [
    "acc_arr = cross_val_score(imp_Pipe, X_raw, y, cv=5)\n",
    "print('5x CV Accuracy Simple Imputer: %0.2f (+/- %0.2f)' % (acc_arr.mean(), acc_arr.std() * 2))"
   ]
  },
  {
   "cell_type": "code",
   "execution_count": 15,
   "id": "01e26cf0",
   "metadata": {},
   "outputs": [
    {
     "name": "stderr",
     "output_type": "stream",
     "text": [
      "C:\\Users\\anton\\anaconda3\\lib\\site-packages\\sklearn\\impute\\_iterative.py:699: ConvergenceWarning: [IterativeImputer] Early stopping criterion not reached.\n",
      "  warnings.warn(\n",
      "C:\\Users\\anton\\anaconda3\\lib\\site-packages\\sklearn\\impute\\_iterative.py:699: ConvergenceWarning: [IterativeImputer] Early stopping criterion not reached.\n",
      "  warnings.warn(\n",
      "C:\\Users\\anton\\anaconda3\\lib\\site-packages\\sklearn\\impute\\_iterative.py:699: ConvergenceWarning: [IterativeImputer] Early stopping criterion not reached.\n",
      "  warnings.warn(\n",
      "C:\\Users\\anton\\anaconda3\\lib\\site-packages\\sklearn\\impute\\_iterative.py:699: ConvergenceWarning: [IterativeImputer] Early stopping criterion not reached.\n",
      "  warnings.warn(\n"
     ]
    },
    {
     "name": "stdout",
     "output_type": "stream",
     "text": [
      "5x CV Accuracy Iterative Imputer: 0.93 (+/- 0.04)\n"
     ]
    },
    {
     "name": "stderr",
     "output_type": "stream",
     "text": [
      "C:\\Users\\anton\\anaconda3\\lib\\site-packages\\sklearn\\impute\\_iterative.py:699: ConvergenceWarning: [IterativeImputer] Early stopping criterion not reached.\n",
      "  warnings.warn(\n"
     ]
    }
   ],
   "source": [
    "acc_arr = cross_val_score(ite_Pipe, X_raw, y, cv=5)\n",
    "print('5x CV Accuracy Iterative Imputer: %0.2f (+/- %0.2f)' % (acc_arr.mean(), acc_arr.std() * 2))"
   ]
  },
  {
   "cell_type": "code",
   "execution_count": 16,
   "id": "93bb888f",
   "metadata": {},
   "outputs": [
    {
     "name": "stdout",
     "output_type": "stream",
     "text": [
      "10x CV F1 MyGaussianNB: 0.92 (+/- 0.04)\n"
     ]
    }
   ],
   "source": [
    "scores = cross_val_score(my_gnb, X, y, cv=5, scoring='f1_micro')\n",
    "print('10x CV F1 MyGaussianNB: %0.2f (+/- %0.2f)' % (scores.mean(), scores.std() * 2))"
   ]
  },
  {
   "cell_type": "code",
   "execution_count": 17,
   "id": "b29825e0",
   "metadata": {},
   "outputs": [
    {
     "name": "stdout",
     "output_type": "stream",
     "text": [
      "10x CV F1 Simple Imputer: 0.93 (+/- 0.02)\n"
     ]
    }
   ],
   "source": [
    "scores = cross_val_score(imp_Pipe, X_raw, y, cv=5, scoring='f1_micro')\n",
    "print('10x CV F1 Simple Imputer: %0.2f (+/- %0.2f)' % (scores.mean(), scores.std() * 2))"
   ]
  },
  {
   "cell_type": "code",
   "execution_count": 18,
   "id": "bf19ad46",
   "metadata": {},
   "outputs": [
    {
     "name": "stderr",
     "output_type": "stream",
     "text": [
      "C:\\Users\\anton\\anaconda3\\lib\\site-packages\\sklearn\\impute\\_iterative.py:699: ConvergenceWarning: [IterativeImputer] Early stopping criterion not reached.\n",
      "  warnings.warn(\n",
      "C:\\Users\\anton\\anaconda3\\lib\\site-packages\\sklearn\\impute\\_iterative.py:699: ConvergenceWarning: [IterativeImputer] Early stopping criterion not reached.\n",
      "  warnings.warn(\n",
      "C:\\Users\\anton\\anaconda3\\lib\\site-packages\\sklearn\\impute\\_iterative.py:699: ConvergenceWarning: [IterativeImputer] Early stopping criterion not reached.\n",
      "  warnings.warn(\n",
      "C:\\Users\\anton\\anaconda3\\lib\\site-packages\\sklearn\\impute\\_iterative.py:699: ConvergenceWarning: [IterativeImputer] Early stopping criterion not reached.\n",
      "  warnings.warn(\n"
     ]
    },
    {
     "name": "stdout",
     "output_type": "stream",
     "text": [
      "10x CV F1 Iterative Imputer: 0.93 (+/- 0.04)\n"
     ]
    },
    {
     "name": "stderr",
     "output_type": "stream",
     "text": [
      "C:\\Users\\anton\\anaconda3\\lib\\site-packages\\sklearn\\impute\\_iterative.py:699: ConvergenceWarning: [IterativeImputer] Early stopping criterion not reached.\n",
      "  warnings.warn(\n"
     ]
    }
   ],
   "source": [
    "scores = cross_val_score(ite_Pipe, X_raw, y, cv=5, scoring='f1_micro')\n",
    "print('10x CV F1 Iterative Imputer: %0.2f (+/- %0.2f)' % (scores.mean(), scores.std() * 2))"
   ]
  },
  {
   "cell_type": "markdown",
   "id": "57bc4af4",
   "metadata": {},
   "source": [
    "# Penguins 40% missing values"
   ]
  },
  {
   "cell_type": "code",
   "execution_count": 19,
   "id": "a8561c5f",
   "metadata": {},
   "outputs": [],
   "source": [
    "y = penguins_0_4.pop('species').values\n",
    "y = le.fit_transform(y)\n",
    "X_raw = penguins_0_4.values"
   ]
  },
  {
   "cell_type": "code",
   "execution_count": 20,
   "id": "b6cd0330",
   "metadata": {},
   "outputs": [],
   "source": [
    "X_tr_raw, X_ts_raw, y_train, y_test = train_test_split(X_raw, y, random_state=2, test_size=0.4)\n",
    "X_train = scaler.fit_transform(X_tr_raw)\n",
    "X_test = scaler.transform(X_ts_raw) "
   ]
  },
  {
   "cell_type": "code",
   "execution_count": 21,
   "id": "d9722097",
   "metadata": {},
   "outputs": [],
   "source": [
    "fit_penguins = my_gnb.fit(X_train,y_train)\n",
    "y_pred = my_gnb.predict(X_test)\n",
    "cfm_My = confusion_matrix(y_test,y_pred)"
   ]
  },
  {
   "cell_type": "code",
   "execution_count": 22,
   "id": "17b6810c",
   "metadata": {},
   "outputs": [],
   "source": [
    "imp_Pipe.fit(X_train, y_train)\n",
    "y_pred_SI = imp_Pipe.predict(X_test)\n",
    "cfm_SI = confusion_matrix(y_test,y_pred_SI)"
   ]
  },
  {
   "cell_type": "code",
   "execution_count": 23,
   "id": "0d76b82b",
   "metadata": {},
   "outputs": [
    {
     "name": "stderr",
     "output_type": "stream",
     "text": [
      "C:\\Users\\anton\\anaconda3\\lib\\site-packages\\sklearn\\impute\\_iterative.py:699: ConvergenceWarning: [IterativeImputer] Early stopping criterion not reached.\n",
      "  warnings.warn(\n"
     ]
    }
   ],
   "source": [
    "ite_Pipe.fit(X_train, y_train)\n",
    "y_pred_ite = ite_Pipe.predict(X_test)\n",
    "cfm_ite = confusion_matrix(y_test,y_pred_ite)"
   ]
  },
  {
   "cell_type": "code",
   "execution_count": 24,
   "id": "366170af",
   "metadata": {},
   "outputs": [
    {
     "data": {
      "image/png": "[encoded data removed]",
      "text/plain": [
       "<Figure size 1224x504 with 6 Axes>"
      ]
     },
     "metadata": {
      "needs_background": "light"
     },
     "output_type": "display_data"
    }
   ],
   "source": [
    "x_axis_labels = ['Predicted label 0','Predicted label 1','Predicted label 2']\n",
    "y_axis_labels = ['Actual label 0','Actual label 1','Actual label 2'] \n",
    "fig = plt.figure(figsize=(17,7))\n",
    "plt.subplot(1,3,1)\n",
    "sn.heatmap(cfm_My, xticklabels=x_axis_labels, yticklabels=y_axis_labels, annot=True)\n",
    "plt.subplot(1,3,2)\n",
    "sn.heatmap(cfm_SI, xticklabels=x_axis_labels, yticklabels=y_axis_labels, annot=True)\n",
    "plt.subplot(1,3,3)\n",
    "sn.heatmap(cfm_ite, xticklabels=x_axis_labels, yticklabels=y_axis_labels, annot=True)\n",
    "plt.show()"
   ]
  },
  {
   "cell_type": "code",
   "execution_count": 25,
   "id": "8c857d00",
   "metadata": {},
   "outputs": [
    {
     "name": "stdout",
     "output_type": "stream",
     "text": [
      "5x CV Accuracy MyGaussianNB: 0.76 (+/- 0.18)\n"
     ]
    }
   ],
   "source": [
    "X = scaler.fit_transform(X_raw)\n",
    "acc_arr = cross_val_score(my_gnb, X, y, cv=5)\n",
    "print('5x CV Accuracy MyGaussianNB: %0.2f (+/- %0.2f)' % (acc_arr.mean(), acc_arr.std() * 2))"
   ]
  },
  {
   "cell_type": "code",
   "execution_count": 26,
   "id": "0ca2b5d8",
   "metadata": {},
   "outputs": [
    {
     "name": "stdout",
     "output_type": "stream",
     "text": [
      "5x CV Accuracy Simple Imputer: 0.83 (+/- 0.09)\n"
     ]
    }
   ],
   "source": [
    "acc_arr = cross_val_score(imp_Pipe, X_raw, y, cv=5)\n",
    "print('5x CV Accuracy Simple Imputer: %0.2f (+/- %0.2f)' % (acc_arr.mean(), acc_arr.std() * 2))"
   ]
  },
  {
   "cell_type": "code",
   "execution_count": 27,
   "id": "be23e3c8",
   "metadata": {},
   "outputs": [
    {
     "name": "stderr",
     "output_type": "stream",
     "text": [
      "C:\\Users\\anton\\anaconda3\\lib\\site-packages\\sklearn\\impute\\_iterative.py:699: ConvergenceWarning: [IterativeImputer] Early stopping criterion not reached.\n",
      "  warnings.warn(\n",
      "C:\\Users\\anton\\anaconda3\\lib\\site-packages\\sklearn\\impute\\_iterative.py:699: ConvergenceWarning: [IterativeImputer] Early stopping criterion not reached.\n",
      "  warnings.warn(\n",
      "C:\\Users\\anton\\anaconda3\\lib\\site-packages\\sklearn\\impute\\_iterative.py:699: ConvergenceWarning: [IterativeImputer] Early stopping criterion not reached.\n",
      "  warnings.warn(\n",
      "C:\\Users\\anton\\anaconda3\\lib\\site-packages\\sklearn\\impute\\_iterative.py:699: ConvergenceWarning: [IterativeImputer] Early stopping criterion not reached.\n",
      "  warnings.warn(\n"
     ]
    },
    {
     "name": "stdout",
     "output_type": "stream",
     "text": [
      "5x CV Accuracy Iterative Imputer: 0.83 (+/- 0.07)\n"
     ]
    },
    {
     "name": "stderr",
     "output_type": "stream",
     "text": [
      "C:\\Users\\anton\\anaconda3\\lib\\site-packages\\sklearn\\impute\\_iterative.py:699: ConvergenceWarning: [IterativeImputer] Early stopping criterion not reached.\n",
      "  warnings.warn(\n"
     ]
    }
   ],
   "source": [
    "acc_arr = cross_val_score(ite_Pipe, X_raw, y, cv=5)\n",
    "print('5x CV Accuracy Iterative Imputer: %0.2f (+/- %0.2f)' % (acc_arr.mean(), acc_arr.std() * 2))"
   ]
  },
  {
   "cell_type": "code",
   "execution_count": 28,
   "id": "4ee7640a",
   "metadata": {},
   "outputs": [
    {
     "name": "stdout",
     "output_type": "stream",
     "text": [
      "10x CV F1 MyGaussianNB: 0.76 (+/- 0.18)\n"
     ]
    }
   ],
   "source": [
    "scores = cross_val_score(my_gnb, X, y, cv=5, scoring='f1_micro')\n",
    "print('10x CV F1 MyGaussianNB: %0.2f (+/- %0.2f)' % (scores.mean(), scores.std() * 2))"
   ]
  },
  {
   "cell_type": "code",
   "execution_count": 29,
   "id": "4668163b",
   "metadata": {},
   "outputs": [
    {
     "name": "stdout",
     "output_type": "stream",
     "text": [
      "5x CV F1 Simple Imputer: 0.83 (+/- 0.09)\n"
     ]
    }
   ],
   "source": [
    "scores = cross_val_score(imp_Pipe, X_raw, y, cv=5, scoring='f1_micro')\n",
    "print('5x CV F1 Simple Imputer: %0.2f (+/- %0.2f)' % (scores.mean(), scores.std() * 2))"
   ]
  },
  {
   "cell_type": "code",
   "execution_count": 30,
   "id": "0aa281ae",
   "metadata": {},
   "outputs": [
    {
     "name": "stderr",
     "output_type": "stream",
     "text": [
      "C:\\Users\\anton\\anaconda3\\lib\\site-packages\\sklearn\\impute\\_iterative.py:699: ConvergenceWarning: [IterativeImputer] Early stopping criterion not reached.\n",
      "  warnings.warn(\n",
      "C:\\Users\\anton\\anaconda3\\lib\\site-packages\\sklearn\\impute\\_iterative.py:699: ConvergenceWarning: [IterativeImputer] Early stopping criterion not reached.\n",
      "  warnings.warn(\n",
      "C:\\Users\\anton\\anaconda3\\lib\\site-packages\\sklearn\\impute\\_iterative.py:699: ConvergenceWarning: [IterativeImputer] Early stopping criterion not reached.\n",
      "  warnings.warn(\n",
      "C:\\Users\\anton\\anaconda3\\lib\\site-packages\\sklearn\\impute\\_iterative.py:699: ConvergenceWarning: [IterativeImputer] Early stopping criterion not reached.\n",
      "  warnings.warn(\n"
     ]
    },
    {
     "name": "stdout",
     "output_type": "stream",
     "text": [
      "5x CV F1 Iterative Imputer: 0.83 (+/- 0.07)\n"
     ]
    },
    {
     "name": "stderr",
     "output_type": "stream",
     "text": [
      "C:\\Users\\anton\\anaconda3\\lib\\site-packages\\sklearn\\impute\\_iterative.py:699: ConvergenceWarning: [IterativeImputer] Early stopping criterion not reached.\n",
      "  warnings.warn(\n"
     ]
    }
   ],
   "source": [
    "scores = cross_val_score(ite_Pipe, X_raw, y, cv=5, scoring='f1_micro')\n",
    "print('5x CV F1 Iterative Imputer: %0.2f (+/- %0.2f)' % (scores.mean(), scores.std() * 2))"
   ]
  },
  {
   "cell_type": "markdown",
   "id": "1e324ff6",
   "metadata": {},
   "source": [
    "# Diabetes 30% missing"
   ]
  },
  {
   "cell_type": "code",
   "execution_count": 31,
   "id": "c708d372",
   "metadata": {},
   "outputs": [
    {
     "data": {
      "text/html": [
       "<div>\n",
       "<style scoped>\n",
       "    .dataframe tbody tr th:only-of-type {\n",
       "        vertical-align: middle;\n",
       "    }\n",
       "\n",
       "    .dataframe tbody tr th {\n",
       "        vertical-align: top;\n",
       "    }\n",
       "\n",
       "    .dataframe thead th {\n",
       "        text-align: right;\n",
       "    }\n",
       "</style>\n",
       "<table border=\"1\" class=\"dataframe\">\n",
       "  <thead>\n",
       "    <tr style=\"text-align: right;\">\n",
       "      <th></th>\n",
       "      <th>preg</th>\n",
       "      <th>plas</th>\n",
       "      <th>pres</th>\n",
       "      <th>skin</th>\n",
       "      <th>insu</th>\n",
       "      <th>mass</th>\n",
       "      <th>pedi</th>\n",
       "      <th>age</th>\n",
       "      <th>neg_pos</th>\n",
       "    </tr>\n",
       "  </thead>\n",
       "  <tbody>\n",
       "    <tr>\n",
       "      <th>0</th>\n",
       "      <td>6</td>\n",
       "      <td>148</td>\n",
       "      <td>72</td>\n",
       "      <td>35</td>\n",
       "      <td>0</td>\n",
       "      <td>33.6</td>\n",
       "      <td>0.627</td>\n",
       "      <td>50</td>\n",
       "      <td>tested_positive</td>\n",
       "    </tr>\n",
       "    <tr>\n",
       "      <th>1</th>\n",
       "      <td>1</td>\n",
       "      <td>85</td>\n",
       "      <td>66</td>\n",
       "      <td>29</td>\n",
       "      <td>0</td>\n",
       "      <td>26.6</td>\n",
       "      <td>0.351</td>\n",
       "      <td>31</td>\n",
       "      <td>tested_negative</td>\n",
       "    </tr>\n",
       "    <tr>\n",
       "      <th>2</th>\n",
       "      <td>8</td>\n",
       "      <td>183</td>\n",
       "      <td>64</td>\n",
       "      <td>0</td>\n",
       "      <td>0</td>\n",
       "      <td>23.3</td>\n",
       "      <td>0.672</td>\n",
       "      <td>32</td>\n",
       "      <td>tested_positive</td>\n",
       "    </tr>\n",
       "    <tr>\n",
       "      <th>3</th>\n",
       "      <td>1</td>\n",
       "      <td>89</td>\n",
       "      <td>66</td>\n",
       "      <td>23</td>\n",
       "      <td>94</td>\n",
       "      <td>28.1</td>\n",
       "      <td>0.167</td>\n",
       "      <td>21</td>\n",
       "      <td>tested_negative</td>\n",
       "    </tr>\n",
       "    <tr>\n",
       "      <th>4</th>\n",
       "      <td>0</td>\n",
       "      <td>137</td>\n",
       "      <td>40</td>\n",
       "      <td>35</td>\n",
       "      <td>168</td>\n",
       "      <td>43.1</td>\n",
       "      <td>2.288</td>\n",
       "      <td>33</td>\n",
       "      <td>tested_positive</td>\n",
       "    </tr>\n",
       "  </tbody>\n",
       "</table>\n",
       "</div>"
      ],
      "text/plain": [
       "   preg  plas  pres  skin  insu  mass   pedi  age          neg_pos\n",
       "0     6   148    72    35     0  33.6  0.627   50  tested_positive\n",
       "1     1    85    66    29     0  26.6  0.351   31  tested_negative\n",
       "2     8   183    64     0     0  23.3  0.672   32  tested_positive\n",
       "3     1    89    66    23    94  28.1  0.167   21  tested_negative\n",
       "4     0   137    40    35   168  43.1  2.288   33  tested_positive"
      ]
     },
     "execution_count": 31,
     "metadata": {},
     "output_type": "execute_result"
    }
   ],
   "source": [
    "diabetes = pd.read_csv('diabetes.csv')\n",
    "diabetes.head()"
   ]
  },
  {
   "cell_type": "code",
   "execution_count": 32,
   "id": "85f7c722",
   "metadata": {},
   "outputs": [
    {
     "data": {
      "text/html": [
       "<div>\n",
       "<style scoped>\n",
       "    .dataframe tbody tr th:only-of-type {\n",
       "        vertical-align: middle;\n",
       "    }\n",
       "\n",
       "    .dataframe tbody tr th {\n",
       "        vertical-align: top;\n",
       "    }\n",
       "\n",
       "    .dataframe thead th {\n",
       "        text-align: right;\n",
       "    }\n",
       "</style>\n",
       "<table border=\"1\" class=\"dataframe\">\n",
       "  <thead>\n",
       "    <tr style=\"text-align: right;\">\n",
       "      <th></th>\n",
       "      <th>preg</th>\n",
       "      <th>plas</th>\n",
       "      <th>pres</th>\n",
       "      <th>skin</th>\n",
       "      <th>insu</th>\n",
       "      <th>mass</th>\n",
       "      <th>pedi</th>\n",
       "      <th>age</th>\n",
       "    </tr>\n",
       "  </thead>\n",
       "  <tbody>\n",
       "    <tr>\n",
       "      <th>0</th>\n",
       "      <td>6.0</td>\n",
       "      <td>148.0</td>\n",
       "      <td>72.0</td>\n",
       "      <td>35.0</td>\n",
       "      <td>0.0</td>\n",
       "      <td>NaN</td>\n",
       "      <td>NaN</td>\n",
       "      <td>50.0</td>\n",
       "    </tr>\n",
       "    <tr>\n",
       "      <th>1</th>\n",
       "      <td>NaN</td>\n",
       "      <td>NaN</td>\n",
       "      <td>66.0</td>\n",
       "      <td>NaN</td>\n",
       "      <td>0.0</td>\n",
       "      <td>26.6</td>\n",
       "      <td>NaN</td>\n",
       "      <td>31.0</td>\n",
       "    </tr>\n",
       "    <tr>\n",
       "      <th>2</th>\n",
       "      <td>NaN</td>\n",
       "      <td>NaN</td>\n",
       "      <td>NaN</td>\n",
       "      <td>0.0</td>\n",
       "      <td>0.0</td>\n",
       "      <td>NaN</td>\n",
       "      <td>NaN</td>\n",
       "      <td>32.0</td>\n",
       "    </tr>\n",
       "    <tr>\n",
       "      <th>3</th>\n",
       "      <td>NaN</td>\n",
       "      <td>89.0</td>\n",
       "      <td>66.0</td>\n",
       "      <td>23.0</td>\n",
       "      <td>94.0</td>\n",
       "      <td>NaN</td>\n",
       "      <td>0.167</td>\n",
       "      <td>21.0</td>\n",
       "    </tr>\n",
       "    <tr>\n",
       "      <th>4</th>\n",
       "      <td>0.0</td>\n",
       "      <td>137.0</td>\n",
       "      <td>NaN</td>\n",
       "      <td>NaN</td>\n",
       "      <td>168.0</td>\n",
       "      <td>43.1</td>\n",
       "      <td>2.288</td>\n",
       "      <td>33.0</td>\n",
       "    </tr>\n",
       "    <tr>\n",
       "      <th>5</th>\n",
       "      <td>5.0</td>\n",
       "      <td>116.0</td>\n",
       "      <td>74.0</td>\n",
       "      <td>0.0</td>\n",
       "      <td>NaN</td>\n",
       "      <td>25.6</td>\n",
       "      <td>0.201</td>\n",
       "      <td>30.0</td>\n",
       "    </tr>\n",
       "    <tr>\n",
       "      <th>6</th>\n",
       "      <td>3.0</td>\n",
       "      <td>78.0</td>\n",
       "      <td>50.0</td>\n",
       "      <td>NaN</td>\n",
       "      <td>88.0</td>\n",
       "      <td>31.0</td>\n",
       "      <td>NaN</td>\n",
       "      <td>NaN</td>\n",
       "    </tr>\n",
       "    <tr>\n",
       "      <th>7</th>\n",
       "      <td>10.0</td>\n",
       "      <td>NaN</td>\n",
       "      <td>0.0</td>\n",
       "      <td>0.0</td>\n",
       "      <td>0.0</td>\n",
       "      <td>NaN</td>\n",
       "      <td>0.134</td>\n",
       "      <td>NaN</td>\n",
       "    </tr>\n",
       "    <tr>\n",
       "      <th>8</th>\n",
       "      <td>2.0</td>\n",
       "      <td>197.0</td>\n",
       "      <td>NaN</td>\n",
       "      <td>45.0</td>\n",
       "      <td>543.0</td>\n",
       "      <td>NaN</td>\n",
       "      <td>0.158</td>\n",
       "      <td>53.0</td>\n",
       "    </tr>\n",
       "    <tr>\n",
       "      <th>9</th>\n",
       "      <td>8.0</td>\n",
       "      <td>NaN</td>\n",
       "      <td>96.0</td>\n",
       "      <td>NaN</td>\n",
       "      <td>0.0</td>\n",
       "      <td>NaN</td>\n",
       "      <td>0.232</td>\n",
       "      <td>54.0</td>\n",
       "    </tr>\n",
       "    <tr>\n",
       "      <th>10</th>\n",
       "      <td>4.0</td>\n",
       "      <td>110.0</td>\n",
       "      <td>92.0</td>\n",
       "      <td>0.0</td>\n",
       "      <td>0.0</td>\n",
       "      <td>NaN</td>\n",
       "      <td>NaN</td>\n",
       "      <td>30.0</td>\n",
       "    </tr>\n",
       "    <tr>\n",
       "      <th>11</th>\n",
       "      <td>NaN</td>\n",
       "      <td>168.0</td>\n",
       "      <td>74.0</td>\n",
       "      <td>0.0</td>\n",
       "      <td>0.0</td>\n",
       "      <td>38.0</td>\n",
       "      <td>0.537</td>\n",
       "      <td>34.0</td>\n",
       "    </tr>\n",
       "    <tr>\n",
       "      <th>12</th>\n",
       "      <td>10.0</td>\n",
       "      <td>139.0</td>\n",
       "      <td>80.0</td>\n",
       "      <td>0.0</td>\n",
       "      <td>0.0</td>\n",
       "      <td>27.1</td>\n",
       "      <td>1.441</td>\n",
       "      <td>NaN</td>\n",
       "    </tr>\n",
       "    <tr>\n",
       "      <th>13</th>\n",
       "      <td>1.0</td>\n",
       "      <td>189.0</td>\n",
       "      <td>60.0</td>\n",
       "      <td>23.0</td>\n",
       "      <td>846.0</td>\n",
       "      <td>30.1</td>\n",
       "      <td>0.398</td>\n",
       "      <td>59.0</td>\n",
       "    </tr>\n",
       "    <tr>\n",
       "      <th>14</th>\n",
       "      <td>5.0</td>\n",
       "      <td>NaN</td>\n",
       "      <td>NaN</td>\n",
       "      <td>19.0</td>\n",
       "      <td>NaN</td>\n",
       "      <td>NaN</td>\n",
       "      <td>NaN</td>\n",
       "      <td>51.0</td>\n",
       "    </tr>\n",
       "    <tr>\n",
       "      <th>15</th>\n",
       "      <td>7.0</td>\n",
       "      <td>100.0</td>\n",
       "      <td>0.0</td>\n",
       "      <td>0.0</td>\n",
       "      <td>NaN</td>\n",
       "      <td>NaN</td>\n",
       "      <td>0.484</td>\n",
       "      <td>32.0</td>\n",
       "    </tr>\n",
       "    <tr>\n",
       "      <th>16</th>\n",
       "      <td>0.0</td>\n",
       "      <td>NaN</td>\n",
       "      <td>84.0</td>\n",
       "      <td>47.0</td>\n",
       "      <td>230.0</td>\n",
       "      <td>45.8</td>\n",
       "      <td>NaN</td>\n",
       "      <td>31.0</td>\n",
       "    </tr>\n",
       "    <tr>\n",
       "      <th>17</th>\n",
       "      <td>7.0</td>\n",
       "      <td>NaN</td>\n",
       "      <td>74.0</td>\n",
       "      <td>0.0</td>\n",
       "      <td>0.0</td>\n",
       "      <td>29.6</td>\n",
       "      <td>NaN</td>\n",
       "      <td>31.0</td>\n",
       "    </tr>\n",
       "    <tr>\n",
       "      <th>18</th>\n",
       "      <td>NaN</td>\n",
       "      <td>NaN</td>\n",
       "      <td>30.0</td>\n",
       "      <td>38.0</td>\n",
       "      <td>83.0</td>\n",
       "      <td>43.3</td>\n",
       "      <td>NaN</td>\n",
       "      <td>NaN</td>\n",
       "    </tr>\n",
       "    <tr>\n",
       "      <th>19</th>\n",
       "      <td>NaN</td>\n",
       "      <td>115.0</td>\n",
       "      <td>70.0</td>\n",
       "      <td>30.0</td>\n",
       "      <td>NaN</td>\n",
       "      <td>34.6</td>\n",
       "      <td>0.529</td>\n",
       "      <td>32.0</td>\n",
       "    </tr>\n",
       "    <tr>\n",
       "      <th>20</th>\n",
       "      <td>NaN</td>\n",
       "      <td>126.0</td>\n",
       "      <td>88.0</td>\n",
       "      <td>41.0</td>\n",
       "      <td>NaN</td>\n",
       "      <td>NaN</td>\n",
       "      <td>0.704</td>\n",
       "      <td>NaN</td>\n",
       "    </tr>\n",
       "    <tr>\n",
       "      <th>21</th>\n",
       "      <td>8.0</td>\n",
       "      <td>99.0</td>\n",
       "      <td>NaN</td>\n",
       "      <td>NaN</td>\n",
       "      <td>NaN</td>\n",
       "      <td>35.4</td>\n",
       "      <td>0.388</td>\n",
       "      <td>NaN</td>\n",
       "    </tr>\n",
       "    <tr>\n",
       "      <th>22</th>\n",
       "      <td>7.0</td>\n",
       "      <td>196.0</td>\n",
       "      <td>90.0</td>\n",
       "      <td>0.0</td>\n",
       "      <td>0.0</td>\n",
       "      <td>39.8</td>\n",
       "      <td>0.451</td>\n",
       "      <td>NaN</td>\n",
       "    </tr>\n",
       "    <tr>\n",
       "      <th>23</th>\n",
       "      <td>9.0</td>\n",
       "      <td>119.0</td>\n",
       "      <td>NaN</td>\n",
       "      <td>35.0</td>\n",
       "      <td>NaN</td>\n",
       "      <td>29.0</td>\n",
       "      <td>NaN</td>\n",
       "      <td>NaN</td>\n",
       "    </tr>\n",
       "    <tr>\n",
       "      <th>24</th>\n",
       "      <td>NaN</td>\n",
       "      <td>143.0</td>\n",
       "      <td>94.0</td>\n",
       "      <td>NaN</td>\n",
       "      <td>NaN</td>\n",
       "      <td>NaN</td>\n",
       "      <td>NaN</td>\n",
       "      <td>51.0</td>\n",
       "    </tr>\n",
       "  </tbody>\n",
       "</table>\n",
       "</div>"
      ],
      "text/plain": [
       "    preg   plas  pres  skin   insu  mass   pedi   age\n",
       "0    6.0  148.0  72.0  35.0    0.0   NaN    NaN  50.0\n",
       "1    NaN    NaN  66.0   NaN    0.0  26.6    NaN  31.0\n",
       "2    NaN    NaN   NaN   0.0    0.0   NaN    NaN  32.0\n",
       "3    NaN   89.0  66.0  23.0   94.0   NaN  0.167  21.0\n",
       "4    0.0  137.0   NaN   NaN  168.0  43.1  2.288  33.0\n",
       "5    5.0  116.0  74.0   0.0    NaN  25.6  0.201  30.0\n",
       "6    3.0   78.0  50.0   NaN   88.0  31.0    NaN   NaN\n",
       "7   10.0    NaN   0.0   0.0    0.0   NaN  0.134   NaN\n",
       "8    2.0  197.0   NaN  45.0  543.0   NaN  0.158  53.0\n",
       "9    8.0    NaN  96.0   NaN    0.0   NaN  0.232  54.0\n",
       "10   4.0  110.0  92.0   0.0    0.0   NaN    NaN  30.0\n",
       "11   NaN  168.0  74.0   0.0    0.0  38.0  0.537  34.0\n",
       "12  10.0  139.0  80.0   0.0    0.0  27.1  1.441   NaN\n",
       "13   1.0  189.0  60.0  23.0  846.0  30.1  0.398  59.0\n",
       "14   5.0    NaN   NaN  19.0    NaN   NaN    NaN  51.0\n",
       "15   7.0  100.0   0.0   0.0    NaN   NaN  0.484  32.0\n",
       "16   0.0    NaN  84.0  47.0  230.0  45.8    NaN  31.0\n",
       "17   7.0    NaN  74.0   0.0    0.0  29.6    NaN  31.0\n",
       "18   NaN    NaN  30.0  38.0   83.0  43.3    NaN   NaN\n",
       "19   NaN  115.0  70.0  30.0    NaN  34.6  0.529  32.0\n",
       "20   NaN  126.0  88.0  41.0    NaN   NaN  0.704   NaN\n",
       "21   8.0   99.0   NaN   NaN    NaN  35.4  0.388   NaN\n",
       "22   7.0  196.0  90.0   0.0    0.0  39.8  0.451   NaN\n",
       "23   9.0  119.0   NaN  35.0    NaN  29.0    NaN   NaN\n",
       "24   NaN  143.0  94.0   NaN    NaN   NaN    NaN  51.0"
      ]
     },
     "execution_count": 32,
     "metadata": {},
     "output_type": "execute_result"
    }
   ],
   "source": [
    "y = diabetes.pop('neg_pos').values\n",
    "diabetes = diabetes.mask(np.random.random(diabetes.shape) < .3)\n",
    "diabetes.head(25)"
   ]
  },
  {
   "cell_type": "code",
   "execution_count": 33,
   "id": "8eab47bc",
   "metadata": {},
   "outputs": [
    {
     "data": {
      "text/plain": [
       "preg    216\n",
       "plas    214\n",
       "pres    217\n",
       "skin    210\n",
       "insu    229\n",
       "mass    245\n",
       "pedi    250\n",
       "age     245\n",
       "dtype: int64"
      ]
     },
     "execution_count": 33,
     "metadata": {},
     "output_type": "execute_result"
    }
   ],
   "source": [
    "diabetes.isna().sum()"
   ]
  },
  {
   "cell_type": "code",
   "execution_count": 34,
   "id": "5808b5d3",
   "metadata": {},
   "outputs": [],
   "source": [
    "y = le.fit_transform(y)\n",
    "X_raw = diabetes.values"
   ]
  },
  {
   "cell_type": "code",
   "execution_count": 35,
   "id": "0b8d06dc",
   "metadata": {},
   "outputs": [
    {
     "data": {
      "text/plain": [
       "((460, 8), (308, 8))"
      ]
     },
     "execution_count": 35,
     "metadata": {},
     "output_type": "execute_result"
    }
   ],
   "source": [
    "X_tr_raw, X_ts_raw, y_train, y_test = train_test_split(X_raw, y, random_state=2, test_size=0.4)\n",
    "X_train = scaler.fit_transform(X_tr_raw)\n",
    "X_test = scaler.transform(X_ts_raw) \n",
    "X_train.shape, X_test.shape"
   ]
  },
  {
   "cell_type": "code",
   "execution_count": 36,
   "id": "a083afd4",
   "metadata": {},
   "outputs": [],
   "source": [
    "fit_diabetes = my_gnb.fit(X_train,y_train)\n",
    "y_pred = my_gnb.predict(X_test)\n",
    "cfm_My = confusion_matrix(y_test,y_pred)"
   ]
  },
  {
   "cell_type": "code",
   "execution_count": 37,
   "id": "c472e654",
   "metadata": {},
   "outputs": [],
   "source": [
    "imp_Pipe.fit(X_train, y_train)\n",
    "y_pred_SI = imp_Pipe.predict(X_test)\n",
    "cfm_SI = confusion_matrix(y_test,y_pred_SI)"
   ]
  },
  {
   "cell_type": "code",
   "execution_count": 38,
   "id": "62d8fd48",
   "metadata": {},
   "outputs": [
    {
     "name": "stderr",
     "output_type": "stream",
     "text": [
      "C:\\Users\\anton\\anaconda3\\lib\\site-packages\\sklearn\\impute\\_iterative.py:699: ConvergenceWarning: [IterativeImputer] Early stopping criterion not reached.\n",
      "  warnings.warn(\n"
     ]
    }
   ],
   "source": [
    "ite_Pipe.fit(X_train, y_train)\n",
    "y_pred_ite = ite_Pipe.predict(X_test)\n",
    "cfm_ite = confusion_matrix(y_test,y_pred_ite)"
   ]
  },
  {
   "cell_type": "code",
   "execution_count": 39,
   "id": "4471eb99",
   "metadata": {},
   "outputs": [
    {
     "data": {
      "image/png": "[encoded data removed]",
      "text/plain": [
       "<Figure size 1224x504 with 6 Axes>"
      ]
     },
     "metadata": {
      "needs_background": "light"
     },
     "output_type": "display_data"
    }
   ],
   "source": [
    "x_axis_labels = ['Predicted label 0','Predicted label 1']\n",
    "y_axis_labels = ['Actual label 0','Actual label 1'] \n",
    "fig = plt.figure(figsize=(17,7))\n",
    "plt.subplot(1,3,1)\n",
    "sn.heatmap(cfm_My, xticklabels=x_axis_labels, yticklabels=y_axis_labels, annot=True)\n",
    "plt.subplot(1,3,2)\n",
    "sn.heatmap(cfm_SI, xticklabels=x_axis_labels, yticklabels=y_axis_labels, annot=True)\n",
    "plt.subplot(1,3,3)\n",
    "sn.heatmap(cfm_ite, xticklabels=x_axis_labels, yticklabels=y_axis_labels, annot=True)\n",
    "plt.show()"
   ]
  },
  {
   "cell_type": "code",
   "execution_count": 40,
   "id": "a1444a98",
   "metadata": {},
   "outputs": [
    {
     "data": {
      "image/png": "[encoded data removed]",
      "text/plain": [
       "<Figure size 432x288 with 1 Axes>"
      ]
     },
     "metadata": {
      "needs_background": "light"
     },
     "output_type": "display_data"
    }
   ],
   "source": [
    "display = PrecisionRecallDisplay.from_predictions(y_test, y_pred)\n",
    "_ = display.ax_.set_title(\"2-class Precision-Recall curve\")"
   ]
  },
  {
   "cell_type": "code",
   "execution_count": 41,
   "id": "793c3616",
   "metadata": {},
   "outputs": [
    {
     "data": {
      "image/png": "[encoded data removed]",
      "text/plain": [
       "<Figure size 432x288 with 1 Axes>"
      ]
     },
     "metadata": {
      "needs_background": "light"
     },
     "output_type": "display_data"
    }
   ],
   "source": [
    "display = PrecisionRecallDisplay.from_predictions(y_test, y_pred_SI)\n",
    "_ = display.ax_.set_title(\"2-class Precision-Recall curve - Simple Imputer\")"
   ]
  },
  {
   "cell_type": "code",
   "execution_count": 42,
   "id": "db0c2e1a",
   "metadata": {},
   "outputs": [
    {
     "data": {
      "image/png": "[encoded data removed]",
      "text/plain": [
       "<Figure size 432x288 with 1 Axes>"
      ]
     },
     "metadata": {
      "needs_background": "light"
     },
     "output_type": "display_data"
    }
   ],
   "source": [
    "display = PrecisionRecallDisplay.from_predictions(y_test, y_pred_ite)\n",
    "_ = display.ax_.set_title(\"2-class Precision-Recall curve - Iterative imputer\")"
   ]
  },
  {
   "cell_type": "code",
   "execution_count": 43,
   "id": "c1eac27f",
   "metadata": {},
   "outputs": [
    {
     "name": "stdout",
     "output_type": "stream",
     "text": [
      "5x CV Accuracy MyGaussianNB: 0.74 (+/- 0.06)\n"
     ]
    }
   ],
   "source": [
    "X = scaler.fit_transform(X_raw)\n",
    "acc_arr = cross_val_score(my_gnb, X, y, cv=5)\n",
    "print('5x CV Accuracy MyGaussianNB: %0.2f (+/- %0.2f)' % (acc_arr.mean(), acc_arr.std() * 2))"
   ]
  },
  {
   "cell_type": "code",
   "execution_count": 44,
   "id": "a8dd64b5",
   "metadata": {},
   "outputs": [
    {
     "name": "stdout",
     "output_type": "stream",
     "text": [
      "5x CV Accuracy Simple Imputer: 0.74 (+/- 0.05)\n"
     ]
    }
   ],
   "source": [
    "acc_arr = cross_val_score(imp_Pipe, X_raw, y, cv=5)\n",
    "print('5x CV Accuracy Simple Imputer: %0.2f (+/- %0.2f)' % (acc_arr.mean(), acc_arr.std() * 2))"
   ]
  },
  {
   "cell_type": "code",
   "execution_count": 45,
   "id": "7eaf276a",
   "metadata": {},
   "outputs": [
    {
     "name": "stderr",
     "output_type": "stream",
     "text": [
      "C:\\Users\\anton\\anaconda3\\lib\\site-packages\\sklearn\\impute\\_iterative.py:699: ConvergenceWarning: [IterativeImputer] Early stopping criterion not reached.\n",
      "  warnings.warn(\n",
      "C:\\Users\\anton\\anaconda3\\lib\\site-packages\\sklearn\\impute\\_iterative.py:699: ConvergenceWarning: [IterativeImputer] Early stopping criterion not reached.\n",
      "  warnings.warn(\n",
      "C:\\Users\\anton\\anaconda3\\lib\\site-packages\\sklearn\\impute\\_iterative.py:699: ConvergenceWarning: [IterativeImputer] Early stopping criterion not reached.\n",
      "  warnings.warn(\n",
      "C:\\Users\\anton\\anaconda3\\lib\\site-packages\\sklearn\\impute\\_iterative.py:699: ConvergenceWarning: [IterativeImputer] Early stopping criterion not reached.\n",
      "  warnings.warn(\n"
     ]
    },
    {
     "name": "stdout",
     "output_type": "stream",
     "text": [
      "5x CV Accuracy Iterative Imputer: 0.74 (+/- 0.05)\n"
     ]
    },
    {
     "name": "stderr",
     "output_type": "stream",
     "text": [
      "C:\\Users\\anton\\anaconda3\\lib\\site-packages\\sklearn\\impute\\_iterative.py:699: ConvergenceWarning: [IterativeImputer] Early stopping criterion not reached.\n",
      "  warnings.warn(\n"
     ]
    }
   ],
   "source": [
    "acc_arr = cross_val_score(ite_Pipe, X_raw, y, cv=5)\n",
    "print('5x CV Accuracy Iterative Imputer: %0.2f (+/- %0.2f)' % (acc_arr.mean(), acc_arr.std() * 2))"
   ]
  },
  {
   "cell_type": "markdown",
   "id": "b7268598",
   "metadata": {},
   "source": [
    "# Summary report\n",
    "\n",
    "### Design desicions \n",
    "\n",
    "In order to have my GNB code handle NaNs in the fit method I changed the code so that only non-NaN array elements goes into the calculation of mean and standard deviations. This is done by the **np.nanmean** and **np.nanstd** functions. Further on, to have the predict method operationable despite NaNs in test samples I opted to use an identity test that checks if the individual test sample is a sample that holds NaN. The code will then replace NaNs in the test sample with 0. More specifically, to my helper method *def predicts* which the predict method calls, I added this function: **if x is not np.isnan(x).any(axis=0):** and then: **x = np.nan_to_num(x, nan = 0)**. The reason I opted to do it this way is because I am using a StandardScaler() to scale the data which makes the mean of the distribution 0. So when we are imputing 0 instead of NaN, I believe we are essentially doing a mean imputation for whatever feature the NaN was positioned in. \n",
    "\n",
    "### Evaluation\n",
    "\n",
    "In the dataset with 20% missing values our classifier performs nearly as well as library implmentation. Accuracy and F1 scores are high and similar across the board. Overall, all implementations works very good but the pipeline that utilizes mulitvariate imputation has marginally better cross-validated predictive performance. \n",
    "\n",
    "Unsuprisingly, the dataset with 40% missing values yields worse results. The predicitve performance is worse across all implementations. However, the performance is still moderately good for all implementations. Our classifier does not perform as well as the pipelines. Considering that my GNB code does not result in the same estimates as the simple imputer pipeline, my working hypothesis regarding design descisions I made to my predict function seems disconfirmed. It looks like I am not doing mean imputation by replacing NaNs with 0s after all. Or at least that the GNB code does not behave in the same way as the simple imputer pipeline. The confusion matrix indicate that our classifier is biased towards the minority class. Overall however, I think my GNB code works reasonably well. The pipeline with best performance is the one utilizing mulitvariate imputation.\n",
    "\n",
    "Seeing the results from the 40% missing dataset, I thought it would be interesting to see how the classifier would react to for instance diabetes data that holds NaNs in features. In this case we know that the minority class is more important. If our classifier would behave similarly as here in that situation, it might be beneficial to use it comparatively to the pipelines given that we want to minimize the false negative rate in that scenario. \n",
    "\n",
    "I decided to test this by importing the diabetes data and adding 30% missing values to each feature. Cross-validated accuracy scores were almost the same for each implementation. However, as indicated by the confusion matrices and precision-recall curves the GNB code did not retain a particular bias towards the minority class which I believe invalidate its comparative utility relative to the other implementations in this classification task as well."
   ]
  }
 ],
 "metadata": {
  "kernelspec": {
   "display_name": "Python 3",
   "language": "python",
   "name": "python3"
  },
  "language_info": {
   "codemirror_mode": {
    "name": "ipython",
    "version": 3
   },
   "file_extension": ".py",
   "mimetype": "text/x-python",
   "name": "python",
   "nbconvert_exporter": "python",
   "pygments_lexer": "ipython3",
   "version": "3.8.8"
  }
 },
 "nbformat": 4,
 "nbformat_minor": 5
}
